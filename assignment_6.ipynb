{
 "cells": [
  {
   "cell_type": "markdown",
   "metadata": {},
   "source": [
    "# Assignment 6"
   ]
  },
  {
   "cell_type": "markdown",
   "metadata": {},
   "source": [
    "**Exercise 1:**  write a Python program to find palindromes in a given list of strings using Lambda.\n",
    "\n",
    "Apply the Python program for the following two lists:\n",
    "\n",
    "**Input 1:** ```['civic', 'Lambda', 'Python', 'QTM', 'Java', 'ana']```\n",
    "\n",
    "**Output 1:** ```['civic', 'ana']```\n",
    "\n",
    "**Input 2:** ```['nurses run', 'Nurses Run', 'madam', 'Stats', 'World', 'what']```\n",
    "\n",
    "**Output 2:** ```['nurses run', 'Nurses Run', 'madam', 'Stats']```"
   ]
  },
  {
   "cell_type": "code",
   "execution_count": 21,
   "metadata": {},
   "outputs": [
    {
     "name": "stdout",
     "output_type": "stream",
     "text": [
      "['civic', 'ana']\n",
      "['nurses run', 'Nurses Run', 'madam', 'Stats']\n"
     ]
    }
   ],
   "source": [
    "def palin(strings):\n",
    "    temp=0\n",
    "    stringss=strings.upper()\n",
    "    string=stringss.replace(\" \",\"\")\n",
    "    \n",
    "    for x in range(len(string)-1):\n",
    "        if string[x]==string[len(string)-1-x]:\n",
    "            temp=temp+1\n",
    "    if len(string)-1 == temp:\n",
    "        return True\n",
    "    else:\n",
    "        return False\n",
    "\n",
    "ip1=['civic', 'Lambda', 'Python', 'QTM', 'Java', 'ana']\n",
    "ip2=['nurses run', 'Nurses Run', 'madam', 'Stats', 'World', 'what']\n",
    "print(list(filter(lambda v: palin(v) ,ip1)))\n",
    "print(list(filter(lambda v: palin(v) ,ip2)))\n",
    "\n",
    "\n",
    "    \n",
    "\n",
    "\n"
   ]
  },
  {
   "cell_type": "markdown",
   "metadata": {},
   "source": [
    "**Exercise 2:** write a Python program to calculate the sum of the positive and negative numbers of a given list of numbers using lambda function.\n",
    "\n",
    "**Output:**\n",
    "\n",
    "Original list: [2, 4, -6, -9, 11, -12, 14, -5, 17]\n",
    "\n",
    "Sum of the positive numbers:  -32\n",
    "\n",
    "Sum of the negative numbers:  48"
   ]
  },
  {
   "cell_type": "code",
   "execution_count": 24,
   "metadata": {},
   "outputs": [
    {
     "name": "stdout",
     "output_type": "stream",
     "text": [
      "sum of positive 48\n",
      "sum of negative -32\n"
     ]
    }
   ],
   "source": [
    "ol=[2, 4, -6, -9, 11, -12, 14, -5, 17]\n",
    "\n",
    "print(\"sum of positive\",sum(list(filter(lambda c:c>0, ol))))\n",
    "print(\"sum of negative\",sum(list(filter(lambda c:c<0, ol))))"
   ]
  },
  {
   "cell_type": "markdown",
   "metadata": {},
   "source": [
    "**Exercise 3:** write a Python program to find the maximum, minimum and average values in a given heterogeneous list using lambda.\n",
    "\n",
    "**Output:**\n",
    "\n",
    "Original list: ['I', 'love' 3, 2, 4, 5, 'Python', 12]\n",
    "\n",
    "Maximum value: 12\n",
    "\n",
    "Minimum value: 2\n",
    "\n",
    "Average value: 5.2"
   ]
  },
  {
   "cell_type": "code",
   "execution_count": 35,
   "metadata": {},
   "outputs": [
    {
     "name": "stdout",
     "output_type": "stream",
     "text": [
      "maximum value:  12\n",
      "minimum value:  2\n",
      "average value 5.2\n"
     ]
    }
   ],
   "source": [
    "\n",
    "lis=['I', 'love', 3, 2, 4, 5, 'Python', 12]\n",
    "ma=list(filter(lambda c:type(c)==int,lis))\n",
    "max(ma)\n",
    "min(ma)\n",
    "sum(ma)/len(ma)\n",
    "print(\"maximum value: \", max(ma))\n",
    "print(\"minimum value: \", min(ma))\n",
    "print(\"average value\", sum(ma)/len(ma))\n",
    "\n"
   ]
  },
  {
   "cell_type": "code",
   "execution_count": null,
   "metadata": {},
   "outputs": [],
   "source": []
  }
 ],
 "metadata": {
  "kernelspec": {
   "display_name": "conda_amazonei_mxnet_p36",
   "language": "python",
   "name": "conda_amazonei_mxnet_p36"
  },
  "language_info": {
   "codemirror_mode": {
    "name": "ipython",
    "version": 3
   },
   "file_extension": ".py",
   "mimetype": "text/x-python",
   "name": "python",
   "nbconvert_exporter": "python",
   "pygments_lexer": "ipython3",
   "version": "3.6.13"
  },
  "vscode": {
   "interpreter": {
    "hash": "9fbb33e86ca55080a202fed700efde3fb4ffe3f46131e5b52201b9ba06ce5f72"
   }
  }
 },
 "nbformat": 4,
 "nbformat_minor": 4
}
